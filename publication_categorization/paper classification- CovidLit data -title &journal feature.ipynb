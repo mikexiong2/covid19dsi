{
 "cells": [
  {
   "cell_type": "code",
   "execution_count": 31,
   "metadata": {},
   "outputs": [],
   "source": [
    "import pandas as pd\n",
    "import spacy\n",
    "import numpy as np\n",
    "from os import listdir\n",
    "import seaborn as sns\n",
    "from scipy.sparse import  hstack\n",
    "from collections import defaultdict\n",
    "from sklearn.preprocessing import LabelEncoder\n",
    "from sklearn.ensemble import RandomForestClassifier\n",
    "from sklearn.linear_model import LogisticRegression\n",
    "from sklearn.svm import LinearSVC\n",
    "from sklearn.ensemble import GradientBoostingClassifier\n",
    "from sklearn.compose import ColumnTransformer\n",
    "from sklearn.pipeline import make_pipeline,Pipeline\n",
    "from sklearn.compose import make_column_transformer\n",
    "from sklearn.model_selection import train_test_split\n",
    "from sklearn.neighbors import KNeighborsClassifier\n",
    "from category_encoders import TargetEncoder\n",
    "from sklearn.decomposition import PCA\n",
    "from sklearn.cluster import AgglomerativeClustering\n",
    "from sklearn.preprocessing import StandardScaler,OneHotEncoder\n",
    "from sklearn.feature_extraction.text import CountVectorizer,TfidfVectorizer,TfidfTransformer"
   ]
  },
  {
   "cell_type": "markdown",
   "metadata": {},
   "source": [
    "# 1. data from CovidLit website and use the label provided there."
   ]
  },
  {
   "cell_type": "code",
   "execution_count": 3,
   "metadata": {},
   "outputs": [],
   "source": [
    "base_dir='LitCovid/'\n",
    "all_file_names=listdir(base_dir)"
   ]
  },
  {
   "cell_type": "code",
   "execution_count": 4,
   "metadata": {},
   "outputs": [],
   "source": [
    "def read_generate_labelled_files(base_dir,file_names):\n",
    "    appended_data = []\n",
    "    for file_name in file_names:\n",
    "        data=pd.read_csv(base_dir+file_name,sep='\\t')\n",
    "        data['label']=file_name[:-4]\n",
    "        appended_data.append(data)\n",
    "    appended_data = pd.concat(appended_data,ignore_index=True).iloc[:,:4]\n",
    "    return appended_data"
   ]
  },
  {
   "cell_type": "code",
   "execution_count": 5,
   "metadata": {},
   "outputs": [],
   "source": [
    "#read all data and generate labelled data\n",
    "data=read_generate_labelled_files(base_dir,all_file_names)"
   ]
  },
  {
   "cell_type": "code",
   "execution_count": 6,
   "metadata": {},
   "outputs": [
    {
     "data": {
      "text/html": [
       "<div>\n",
       "<style scoped>\n",
       "    .dataframe tbody tr th:only-of-type {\n",
       "        vertical-align: middle;\n",
       "    }\n",
       "\n",
       "    .dataframe tbody tr th {\n",
       "        vertical-align: top;\n",
       "    }\n",
       "\n",
       "    .dataframe thead th {\n",
       "        text-align: right;\n",
       "    }\n",
       "</style>\n",
       "<table border=\"1\" class=\"dataframe\">\n",
       "  <thead>\n",
       "    <tr style=\"text-align: right;\">\n",
       "      <th></th>\n",
       "      <th>pmid</th>\n",
       "      <th>title</th>\n",
       "      <th>journal</th>\n",
       "      <th>label</th>\n",
       "    </tr>\n",
       "  </thead>\n",
       "  <tbody>\n",
       "    <tr>\n",
       "      <th>0</th>\n",
       "      <td>32315980</td>\n",
       "      <td>COVID-19 in a MS patient treated with ocrelizu...</td>\n",
       "      <td>Mult Scler Relat Disord</td>\n",
       "      <td>CaseReport</td>\n",
       "    </tr>\n",
       "    <tr>\n",
       "      <th>1</th>\n",
       "      <td>32315884</td>\n",
       "      <td>COVID-19 paranoia in a patient suffering from ...</td>\n",
       "      <td>Psychiatry Res</td>\n",
       "      <td>CaseReport</td>\n",
       "    </tr>\n",
       "    <tr>\n",
       "      <th>2</th>\n",
       "      <td>32315543</td>\n",
       "      <td>An Asymptomatic Patient Infected with Coronavi...</td>\n",
       "      <td>Am J Respir Crit Care Med</td>\n",
       "      <td>CaseReport</td>\n",
       "    </tr>\n",
       "    <tr>\n",
       "      <th>3</th>\n",
       "      <td>32315386</td>\n",
       "      <td>Atypical presentation of COVID-19 in a frail o...</td>\n",
       "      <td>Age Ageing</td>\n",
       "      <td>CaseReport</td>\n",
       "    </tr>\n",
       "    <tr>\n",
       "      <th>4</th>\n",
       "      <td>32315122</td>\n",
       "      <td>COVID-19 in a High-Risk Dual Heart and Kidney ...</td>\n",
       "      <td>Am J Transplant</td>\n",
       "      <td>CaseReport</td>\n",
       "    </tr>\n",
       "    <tr>\n",
       "      <th>...</th>\n",
       "      <td>...</td>\n",
       "      <td>...</td>\n",
       "      <td>...</td>\n",
       "      <td>...</td>\n",
       "    </tr>\n",
       "    <tr>\n",
       "      <th>6909</th>\n",
       "      <td>31986242</td>\n",
       "      <td>Medical Journals and the 2019-nCoV Outbreak.</td>\n",
       "      <td>N Engl J Med</td>\n",
       "      <td>general</td>\n",
       "    </tr>\n",
       "    <tr>\n",
       "      <th>6910</th>\n",
       "      <td>31980434</td>\n",
       "      <td>China coronavirus: what do we know so far?</td>\n",
       "      <td>BMJ</td>\n",
       "      <td>general</td>\n",
       "    </tr>\n",
       "    <tr>\n",
       "      <th>6911</th>\n",
       "      <td>31979013</td>\n",
       "      <td>Emerging Viruses without Borders: The Wuhan Co...</td>\n",
       "      <td>Viruses</td>\n",
       "      <td>general</td>\n",
       "    </tr>\n",
       "    <tr>\n",
       "      <th>6912</th>\n",
       "      <td>31969317</td>\n",
       "      <td>Coronavirus: UK screens direct flights from Wu...</td>\n",
       "      <td>BMJ</td>\n",
       "      <td>general</td>\n",
       "    </tr>\n",
       "    <tr>\n",
       "      <th>6913</th>\n",
       "      <td>31959587</td>\n",
       "      <td>China coronavirus: cases surge as official adm...</td>\n",
       "      <td>BMJ</td>\n",
       "      <td>general</td>\n",
       "    </tr>\n",
       "  </tbody>\n",
       "</table>\n",
       "<p>6914 rows × 4 columns</p>\n",
       "</div>"
      ],
      "text/plain": [
       "          pmid                                              title  \\\n",
       "0     32315980  COVID-19 in a MS patient treated with ocrelizu...   \n",
       "1     32315884  COVID-19 paranoia in a patient suffering from ...   \n",
       "2     32315543  An Asymptomatic Patient Infected with Coronavi...   \n",
       "3     32315386  Atypical presentation of COVID-19 in a frail o...   \n",
       "4     32315122  COVID-19 in a High-Risk Dual Heart and Kidney ...   \n",
       "...        ...                                                ...   \n",
       "6909  31986242       Medical Journals and the 2019-nCoV Outbreak.   \n",
       "6910  31980434         China coronavirus: what do we know so far?   \n",
       "6911  31979013  Emerging Viruses without Borders: The Wuhan Co...   \n",
       "6912  31969317  Coronavirus: UK screens direct flights from Wu...   \n",
       "6913  31959587  China coronavirus: cases surge as official adm...   \n",
       "\n",
       "                        journal       label  \n",
       "0       Mult Scler Relat Disord  CaseReport  \n",
       "1                Psychiatry Res  CaseReport  \n",
       "2     Am J Respir Crit Care Med  CaseReport  \n",
       "3                    Age Ageing  CaseReport  \n",
       "4               Am J Transplant  CaseReport  \n",
       "...                         ...         ...  \n",
       "6909               N Engl J Med     general  \n",
       "6910                        BMJ     general  \n",
       "6911                    Viruses     general  \n",
       "6912                        BMJ     general  \n",
       "6913                        BMJ     general  \n",
       "\n",
       "[6914 rows x 4 columns]"
      ]
     },
     "execution_count": 6,
     "metadata": {},
     "output_type": "execute_result"
    }
   ],
   "source": [
    "#convert float \"pmid\" to string\n",
    "data['pmid'] = data['pmid'].astype(str).replace('\\.0', '', regex=True)\n",
    "data['title']=data['title'].values.astype('U')\n",
    "data['journal']=data['journal'].values.astype('U')\n",
    "data.dropna()"
   ]
  },
  {
   "cell_type": "code",
   "execution_count": 7,
   "metadata": {},
   "outputs": [
    {
     "data": {
      "text/plain": [
       "count         6914\n",
       "unique        5439\n",
       "top       32171952\n",
       "freq             5\n",
       "Name: pmid, dtype: object"
      ]
     },
     "execution_count": 7,
     "metadata": {},
     "output_type": "execute_result"
    }
   ],
   "source": [
    "data.pmid.describe()"
   ]
  },
  {
   "cell_type": "markdown",
   "metadata": {},
   "source": [
    " Since there are duplicate pmid, we drop duplicate and keep the first"
   ]
  },
  {
   "cell_type": "code",
   "execution_count": 8,
   "metadata": {},
   "outputs": [],
   "source": [
    "data = data.drop_duplicates(subset='pmid', keep=\"first\")"
   ]
  },
  {
   "cell_type": "markdown",
   "metadata": {},
   "source": [
    "### 1.1 Using only title text feature: (BOW model)"
   ]
  },
  {
   "cell_type": "code",
   "execution_count": 40,
   "metadata": {},
   "outputs": [],
   "source": [
    "text_train,text_test,y_train,y_test = train_test_split(data.title, data.label,train_size=0.8,shuffle=True)\n",
    "plot_data=[[\"Method\", \"score\", \"step\"]]"
   ]
  },
  {
   "cell_type": "code",
   "execution_count": null,
   "metadata": {},
   "outputs": [],
   "source": [
    "tfidf_model=make_pipeline(CountVectorizer(ngram_range=(1,2)),\n",
    "                        TfidfTransformer())\n",
    "X_train=tfidf_model.fit_transform(text_train)\n",
    "X_test=tfidf_model.transform(text_test)"
   ]
  },
  {
   "cell_type": "code",
   "execution_count": 41,
   "metadata": {},
   "outputs": [
    {
     "name": "stdout",
     "output_type": "stream",
     "text": [
      "logistic regression - val score:\n",
      "0.8205268935236004\n",
      "logistic regression - test score:\n",
      "0.6133704735376044\n"
     ]
    }
   ],
   "source": [
    "lr=LogisticRegression(max_iter=5000).fit(X_train,y_train)\n",
    "print('logistic regression - val score:')\n",
    "train_score=lr.score(X_train,y_train)\n",
    "print(train_score)\n",
    "plot_data.append(['logistic regression',train_score,'train'])\n",
    "print('logistic regression - test score:')\n",
    "test_score=lr.score(X_test,y_test)\n",
    "print(test_score)\n",
    "plot_data.append(['logistic regression',test_score,'test'])"
   ]
  },
  {
   "cell_type": "code",
   "execution_count": 42,
   "metadata": {},
   "outputs": [
    {
     "name": "stdout",
     "output_type": "stream",
     "text": [
      "linear svc - val score:\n",
      "0.9953347969264544\n",
      "linear svc - test score:\n",
      "0.6540389972144847\n"
     ]
    }
   ],
   "source": [
    "lsvc=LinearSVC(max_iter=5000).fit(X_train,y_train)\n",
    "print('linear svc - val score:')\n",
    "train_score=lsvc.score(X_train,y_train)\n",
    "print(train_score)\n",
    "plot_data.append(['linear svc',train_score,'train'])\n",
    "print('linear svc - test score:')\n",
    "test_score=lsvc.score(X_test,y_test)\n",
    "print(test_score)\n",
    "plot_data.append(['linear svc',test_score,'test'])"
   ]
  },
  {
   "cell_type": "code",
   "execution_count": 43,
   "metadata": {},
   "outputs": [
    {
     "name": "stdout",
     "output_type": "stream",
     "text": [
      "knn - val score:\n",
      "0.7000548847420417\n",
      "knn - test score:\n",
      "0.5387186629526463\n"
     ]
    }
   ],
   "source": [
    "knn=KNeighborsClassifier().fit(X_train,y_train)\n",
    "print('knn - val score:')\n",
    "train_score=knn.score(X_train,y_train)\n",
    "print(train_score)\n",
    "plot_data.append(['knn',train_score,'train'])\n",
    "print('knn - test score:')\n",
    "test_score=knn.score(X_test,y_test)\n",
    "print(test_score)\n",
    "plot_data.append(['knn',test_score,'test'])"
   ]
  },
  {
   "cell_type": "code",
   "execution_count": 44,
   "metadata": {},
   "outputs": [
    {
     "name": "stdout",
     "output_type": "stream",
     "text": [
      "random forest - val score:\n",
      "0.9986278814489572\n",
      "random forest - test score:\n",
      "0.5593314763231197\n"
     ]
    }
   ],
   "source": [
    "rf = RandomForestClassifier(warm_start=True)\n",
    "rf.fit(X_train,y_train)\n",
    "print('random forest - val score:')\n",
    "train_score=rf.score(X_train,y_train)\n",
    "print(train_score)\n",
    "plot_data.append(['rf',train_score,'train'])\n",
    "print('random forest - test score:')\n",
    "test_score=rf.score(X_test,y_test)\n",
    "print(test_score)\n",
    "plot_data.append(['rf',test_score,'test'])"
   ]
  },
  {
   "cell_type": "code",
   "execution_count": 45,
   "metadata": {},
   "outputs": [
    {
     "name": "stdout",
     "output_type": "stream",
     "text": [
      "GradientBoosting - val score:\n",
      "0.8243688254665203\n",
      "GradientBoosting - test score:\n",
      "0.5832869080779944\n"
     ]
    }
   ],
   "source": [
    "gb=GradientBoostingClassifier()\n",
    "gb.fit(X_train,y_train)\n",
    "print('GradientBoosting - val score:')\n",
    "train_score=gb.score(X_train,y_train)\n",
    "print(train_score)\n",
    "plot_data.append(['GradientBoosting',train_score,'train'])\n",
    "print('GradientBoosting - test score:')\n",
    "test_score=gb.score(X_test,y_test)\n",
    "print(test_score)\n",
    "plot_data.append(['GradientBoosting',test_score,'test'])"
   ]
  },
  {
   "cell_type": "code",
   "execution_count": 46,
   "metadata": {},
   "outputs": [
    {
     "data": {
      "text/plain": [
       "<seaborn.axisgrid.FacetGrid at 0x135ca2438>"
      ]
     },
     "execution_count": 46,
     "metadata": {},
     "output_type": "execute_result"
    },
    {
     "data": {
      "image/png": "[encoded data removed]",
      "text/plain": [
       "<Figure size 493.225x432 with 1 Axes>"
      ]
     },
     "metadata": {},
     "output_type": "display_data"
    }
   ],
   "source": [
    "plot_data = pd.DataFrame(plot_data[1:], columns=plot_data[0])\n",
    "sns.set(style=\"whitegrid\")\n",
    "# Draw a nested barplot to show survival for class and sex\n",
    "g = sns.catplot(x=\"Method\", y=\"score\", hue=\"step\", data=plot_data,\n",
    "                height=6, kind=\"bar\", palette=\"muted\")\n",
    "g.despine(left=True)\n",
    "g.set_ylabels(\"CovidLit with title only\")"
   ]
  },
  {
   "cell_type": "markdown",
   "metadata": {},
   "source": [
    "### 1.2Using title text features with journal: "
   ]
  },
  {
   "cell_type": "code",
   "execution_count": 128,
   "metadata": {},
   "outputs": [],
   "source": [
    "plot_data=[[\"Method\", \"score\", \"step\"]]\n",
    "data.journal = data.journal.str.replace(' ', '')\n",
    "X_train,X_test,y_train,y_test = train_test_split(data[['title','journal']], data.label,test_size=0.33,shuffle=True)"
   ]
  },
  {
   "cell_type": "code",
   "execution_count": 129,
   "metadata": {},
   "outputs": [],
   "source": [
    "vect=CountVectorizer(ngram_range=(1,2))\n",
    "X_train_title=vect.fit_transform(X_train.title)\n",
    "ohe=OneHotEncoder(handle_unknown='ignore')#.fit(data.journal.values.reshape(-1, 1))\n",
    "X_train_journal=ohe.fit_transform(X_train.journal.values.reshape(-1, 1))\n",
    "X_train=hstack([X_train_title,X_train_journal]).toarray()\n",
    "X_test_title=vect.transform(X_test.title)\n",
    "X_test_journal=ohe.transform(X_test.journal.values.reshape(-1, 1))\n",
    "X_test=hstack([X_test_title,X_test_journal]).toarray()"
   ]
  },
  {
   "cell_type": "code",
   "execution_count": 130,
   "metadata": {},
   "outputs": [
    {
     "name": "stdout",
     "output_type": "stream",
     "text": [
      "logistic regression - val score:\n",
      "0.997530186608123\n",
      "logistic regression - test score:\n",
      "0.6434540389972145\n"
     ]
    }
   ],
   "source": [
    "lr=LogisticRegression(max_iter=5000).fit(X_train,y_train)\n",
    "print('logistic regression - val score:')\n",
    "train_score=lr.score(X_train,y_train)\n",
    "print(train_score)\n",
    "plot_data.append(['logistic regression',train_score,'train'])\n",
    "print('logistic regression - test score:')\n",
    "test_score=lr.score(X_test,y_test)\n",
    "print(test_score)\n",
    "plot_data.append(['logistic regression',test_score,'test'])"
   ]
  },
  {
   "cell_type": "code",
   "execution_count": 131,
   "metadata": {},
   "outputs": [
    {
     "name": "stdout",
     "output_type": "stream",
     "text": [
      "knn - val score:\n",
      "0.5941273326015367\n",
      "knn - test score:\n",
      "0.37493036211699166\n"
     ]
    }
   ],
   "source": [
    "knn=KNeighborsClassifier().fit(X_train,y_train)\n",
    "print('knn - val score:')\n",
    "train_score=knn.score(X_train,y_train)\n",
    "print(train_score)\n",
    "plot_data.append(['knn',train_score,'train'])\n",
    "print('knn - test score:')\n",
    "test_score=knn.score(X_test,y_test)\n",
    "print(test_score)\n",
    "plot_data.append(['knn',test_score,'test'])"
   ]
  },
  {
   "cell_type": "code",
   "execution_count": 132,
   "metadata": {},
   "outputs": [
    {
     "name": "stdout",
     "output_type": "stream",
     "text": [
      "random forest - val score:\n",
      "0.9991767288693744\n",
      "random forest - test score:\n",
      "0.5777158774373259\n"
     ]
    }
   ],
   "source": [
    "rf = RandomForestClassifier(warm_start=True)\n",
    "rf.fit(X_train,y_train)\n",
    "print('random forest - val score:')\n",
    "train_score=rf.score(X_train,y_train)\n",
    "print(train_score)\n",
    "plot_data.append(['rf',train_score,'train'])\n",
    "print('random forest - test score:')\n",
    "test_score=rf.score(X_test,y_test)\n",
    "print(test_score)\n",
    "plot_data.append(['rf',test_score,'test'])"
   ]
  },
  {
   "cell_type": "code",
   "execution_count": 133,
   "metadata": {},
   "outputs": [
    {
     "name": "stdout",
     "output_type": "stream",
     "text": [
      "GradientBoosting - val score:\n",
      "0.7922612513721186\n",
      "GradientBoosting - test score:\n",
      "0.6211699164345403\n"
     ]
    }
   ],
   "source": [
    "gb=GradientBoostingClassifier()\n",
    "gb.fit(X_train,y_train)\n",
    "print('GradientBoosting - val score:')\n",
    "train_score=gb.score(X_train,y_train)\n",
    "print(train_score)\n",
    "plot_data.append(['GradientBoosting',train_score,'train'])\n",
    "print('GradientBoosting - test score:')\n",
    "test_score=gb.score(X_test,y_test)\n",
    "print(test_score)\n",
    "plot_data.append(['GradientBoosting',test_score,'test'])"
   ]
  },
  {
   "cell_type": "code",
   "execution_count": 134,
   "metadata": {},
   "outputs": [
    {
     "data": {
      "text/plain": [
       "<seaborn.axisgrid.FacetGrid at 0x13428aba8>"
      ]
     },
     "execution_count": 134,
     "metadata": {},
     "output_type": "execute_result"
    },
    {
     "data": {
      "image/png": "[encoded data removed]",
      "text/plain": [
       "<Figure size 493.225x432 with 1 Axes>"
      ]
     },
     "metadata": {},
     "output_type": "display_data"
    }
   ],
   "source": [
    "plot_data = pd.DataFrame(plot_data[1:], columns=plot_data[0])\n",
    "sns.set(style=\"whitegrid\")\n",
    "# Draw a nested barplot to show survival for class and sex\n",
    "g = sns.catplot(x=\"Method\", y=\"score\", hue=\"step\", data=plot_data,\n",
    "                height=6, kind=\"bar\", palette=\"muted\")\n",
    "g.despine(left=True)\n",
    "g.set_ylabels(\"CovidLit with title only\")"
   ]
  },
  {
   "cell_type": "code",
   "execution_count": null,
   "metadata": {},
   "outputs": [],
   "source": []
  }
 ],
 "metadata": {
  "kernelspec": {
   "display_name": "Python 3",
   "language": "python",
   "name": "python3"
  },
  "language_info": {
   "codemirror_mode": {
    "name": "ipython",
    "version": 3
   },
   "file_extension": ".py",
   "mimetype": "text/x-python",
   "name": "python",
   "nbconvert_exporter": "python",
   "pygments_lexer": "ipython3",
   "version": "3.7.3"
  }
 },
 "nbformat": 4,
 "nbformat_minor": 4
}
